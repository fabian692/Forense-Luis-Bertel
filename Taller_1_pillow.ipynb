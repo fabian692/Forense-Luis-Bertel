{
  "nbformat": 4,
  "nbformat_minor": 0,
  "metadata": {
    "colab": {
      "name": "Taller 1 pillow.ipynb",
      "provenance": [],
      "collapsed_sections": [],
      "mount_file_id": "1eUYhOKD2de-b6NoRo8KHgt-omynrE-xm",
      "authorship_tag": "ABX9TyMvaYgWhvCh6dU/bQle+dys",
      "include_colab_link": true
    },
    "kernelspec": {
      "name": "python3",
      "display_name": "Python 3"
    }
  },
  "cells": [
    {
      "cell_type": "markdown",
      "metadata": {
        "id": "view-in-github",
        "colab_type": "text"
      },
      "source": [
        "<a href=\"https://colab.research.google.com/github/fabian692/Forense-Luis-Bertel/blob/master/Taller_1_pillow.ipynb\" target=\"_parent\"><img src=\"https://colab.research.google.com/assets/colab-badge.svg\" alt=\"Open In Colab\"/></a>"
      ]
    },
    {
      "cell_type": "markdown",
      "metadata": {
        "id": "ujYZYYpRKDA_"
      },
      "source": [
        "Taller 1 Pillow\n",
        "\n",
        "Docente Luis Bertel;\n",
        "Seguridad Informatica y forense\n",
        "\n",
        "Autores\n",
        "Fabian Alberto Ramirez Rodriguez\n",
        "Diana Marcela Ramirez Rodriguez"
      ]
    },
    {
      "cell_type": "code",
      "metadata": {
        "id": "iAvN3v0C9Xjh",
        "outputId": "f3fcb83d-43f4-4e0f-891b-523865b5e642",
        "colab": {
          "base_uri": "https://localhost:8080/",
          "height": 34
        }
      },
      "source": [
        "pip install pillow\n"
      ],
      "execution_count": 2,
      "outputs": [
        {
          "output_type": "stream",
          "text": [
            "Requirement already satisfied: pillow in /usr/local/lib/python3.6/dist-packages (7.0.0)\n"
          ],
          "name": "stdout"
        }
      ]
    },
    {
      "cell_type": "code",
      "metadata": {
        "id": "KOd_J04i_jhb"
      },
      "source": [
        "import argparse\n",
        "import sys\n",
        "from PIL import Image\n",
        "from PIL.ExifTags import TAGS"
      ],
      "execution_count": 3,
      "outputs": []
    },
    {
      "cell_type": "code",
      "metadata": {
        "id": "e2kOkUIKEkeY",
        "outputId": "89b79b3d-a279-4874-ff16-8029cf4174f4",
        "colab": {
          "base_uri": "https://localhost:8080/",
          "height": 598
        }
      },
      "source": [
        "#abrir imagen \n",
        "imageame= \"image1.jpeg\"\n",
        "\n",
        "# apertura y lectura de imagen\n",
        "\n",
        "image = Image.open(\"/content/drive/My Drive/foto.jpg.jpg\")\n",
        "\n",
        "# getexif() metodo de retorno de imagen\n",
        "\n",
        "exifdata = image.getexif()\n",
        "#\n",
        "\n",
        "for tag_id in exifdata:\n",
        "  # conversion\n",
        "  tag = TAGS.get(tag_id,tag_id)\n",
        "  #extracción de datos\n",
        "  data = exifdata.get(tag_id)\n",
        "  if isinstance(data,bytes):\n",
        "    #isistance (5,int)\n",
        "    data=data.decode()\n",
        "  print(f\"{tag:40}:{data}\")#nombre: foto.jpg\n"
      ],
      "execution_count": 12,
      "outputs": [
        {
          "output_type": "stream",
          "text": [
            "ExifVersion                             :0220\n",
            "ColorSpace                              :1\n",
            "ExifImageWidth                          :4608\n",
            "DateTimeOriginal                        :2020:03:11 13:17:46\n",
            "DateTimeDigitized                       :2020:03:11 13:17:46\n",
            "MaxApertureValue                        :(153, 100)\n",
            "ExifImageHeight                         :3456\n",
            "MeteringMode                            :2\n",
            "ExposureMode                            :0\n",
            "Flash                                   :0\n",
            "FocalLength                             :(393, 100)\n",
            "WhiteBalance                            :0\n",
            "FocalLengthIn35mmFilm                   :26\n",
            "SceneCaptureType                        :4\n",
            "ImageWidth                              :4608\n",
            "ImageLength                             :3456\n",
            "Make                                    :samsung\n",
            "Model                                   :SM-J810M\n",
            "Orientation                             :1\n",
            "YCbCrPositioning                        :1\n",
            "ExposureTime                            :(1, 1809)\n",
            "XResolution                             :(72, 1)\n",
            "YResolution                             :(72, 1)\n",
            "FNumber                                 :(170, 100)\n",
            "ImageUniqueID                           :T16QLLB01CM T16QLLB01SA\n",
            "ExposureProgram                         :2\n",
            "GPSInfo                                 :{1: 'S', 2: ((0, 1), (0, 1), (0, 1)), 3: 'W', 4: ((0, 1), (0, 1), (0, 1))}\n",
            "ISOSpeedRatings                         :39\n",
            "ResolutionUnit                          :2\n",
            "ExifOffset                              :238\n",
            "Software                                :J810MUBS2BSK1\n",
            "DateTime                                :2020:03:11 13:17:46\n",
            "MakerNote                               :\u0007\u0000\u0001\u0000\u0007\u0000\u0004\u0000\u0000\u00000100\u0002\u0000\u0004\u0000\u0001\u0000\u0000\u0000\u0000 \u0001\u0000\f\u0000\u0004\u0000\u0001\u0000\u0000\u0000\u0000\u0000\u0000\u0000\u0010\u0000\u0005\u0000\u0001\u0000\u0000\u0000Z\u0000\u0000\u0000@\u0000\u0004\u0000\u0001\u0000\u0000\u0000\u0000\u0000\u0000\u0000P\u0000\u0004\u0000\u0001\u0000\u0000\u0000\u0001\u0000\u0000\u0000\u0000\u0001\u0003\u0000\u0001\u0000\u0000\u0000\u0000\u0000\u0000\u0000\u0000\u0000\u0000\u0000\u0000\u0000\u0000\u0000\u0000\u0000\u0000\u0000\n"
          ],
          "name": "stdout"
        }
      ]
    }
  ]
}